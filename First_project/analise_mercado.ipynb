{
 "cells": [
  {
   "cell_type": "code",
   "execution_count": 17,
   "id": "e7b2cb3f",
   "metadata": {},
   "outputs": [
    {
     "data": {
      "text/plain": [
       "True"
      ]
     },
     "execution_count": 17,
     "metadata": {},
     "output_type": "execute_result"
    }
   ],
   "source": [
    "from dotenv import load_dotenv, find_dotenv\n",
    "import os\n",
    "load_dotenv(find_dotenv())\n"
   ]
  },
  {
   "cell_type": "code",
   "execution_count": 18,
   "id": "226ea619",
   "metadata": {},
   "outputs": [],
   "source": [
    "from crewai import Agent,Task, Crew\n",
    "from langchain_openai import ChatOpenAI\n",
    "llm = ChatOpenAI(model=\"gpt-4o\")"
   ]
  },
  {
   "cell_type": "code",
   "execution_count": 19,
   "id": "b2f1bce0",
   "metadata": {},
   "outputs": [
    {
     "data": {
      "text/plain": [
       "'\\n    Agentes\\n- Pesquisador de Mercado\\n- Analista de Tendências\\n- Redator do Relatóri\\n'"
      ]
     },
     "execution_count": 19,
     "metadata": {},
     "output_type": "execute_result"
    }
   ],
   "source": [
    "\"\"\"\n",
    "    Agentes\n",
    "- Pesquisador de Mercado\n",
    "- Analista de Tendências\n",
    "- Redator do Relatóri\n",
    "\"\"\""
   ]
  },
  {
   "cell_type": "code",
   "execution_count": 20,
   "id": "0610b212",
   "metadata": {},
   "outputs": [],
   "source": [
    "pesquisador= Agent(\n",
    "    role=\"Pesquisador de Mercado\",\n",
    "    goal=\"Coletar informações sobre {sector}\",\n",
    "    backstory=\"\"\"Você é um pesquisador de mercado experiente, especializado em coletar dados sobre tendências de mercado, e coleta dados relevantes sobre {sector}. \n",
    "    Você deve fornecer informações detalhadas e atualizadas sobre o mercado, incluindo concorrência, oportunidades e ameaças.\"\"\",\n",
    "    allow_delegation=False,\n",
    "    verbose=True,\n",
    "    llm=llm\n",
    ")"
   ]
  },
  {
   "cell_type": "code",
   "execution_count": 21,
   "id": "24e8fb07",
   "metadata": {},
   "outputs": [],
   "source": [
    "analista= Agent(\n",
    "    role=\"Analista de Tendências\",\n",
    "    goal=\"Analisar tendências de {sector} e identificar oportunidades\",\n",
    "    backstory=\"\"\"Você é um analista de tendências, especializado em identificar padrões e oportunidades no mercado de {sector}.\n",
    "    Você deve analisar os dados coletados pelo Pesquisador de Mercado e identificar tendências emergentes\"\"\",\n",
    "    allow_delegation=False,\n",
    "    verbose=True,\n",
    "    llm=llm\n",
    ")"
   ]
  },
  {
   "cell_type": "code",
   "execution_count": 22,
   "id": "6db24eaf",
   "metadata": {},
   "outputs": [],
   "source": [
    "redator= Agent(\n",
    "    role=\"Redator do Relatório\",\n",
    "    goal=\"Escrever um relatório detalhado sobre o mercado de {sector}\",\n",
    "    backstory=\"\"\"Você é um redator experiente, especializado em criar relatórios detalhados e informativos sobre o mercado de {sector}.\n",
    "    Você deve compilar as informações coletadas pelo Pesquisador de Mercado e as análises do Analista de Tendências em um relatório claro e conciso.\"\"\",\n",
    "    allow_delegation=False,\n",
    "    verbose=True,\n",
    "    llm=llm\n",
    ")"
   ]
  },
  {
   "cell_type": "code",
   "execution_count": 23,
   "id": "3cd5f041",
   "metadata": {},
   "outputs": [],
   "source": [
    "coleta_dados= Task(\n",
    "    description=(\n",
    "        \"1. pesquisar a coletar informações atualizadas sobre {sector}.\"\n",
    "        \"2. identificar os principais players, tendencias e estatistaicas do sector.\"\n",
    "        \"3. organize as informações de forma clara e concisa para a analise.\"\n",
    "    ),\n",
    "    expected_output=\"Um documento estruturado contendo dados de mercado sobre {sector}.\",\n",
    "    agent= pesquisador,\n",
    "    llm=llm\n",
    ")"
   ]
  },
  {
   "cell_type": "code",
   "execution_count": 24,
   "id": "089909d0",
   "metadata": {},
   "outputs": [],
   "source": [
    "analise_tendencias= Task(\n",
    "    description=(\n",
    "        \"1. examinar os dados coletaods pelo pesquisador de mercado.\"\n",
    "        \"2. identificar tendências emergentes e oportunidades no setor {sector}.\"\n",
    "        \"3. fornecer uma análise detalhada das tendências identificadas, destacando os principais pontos e implicações para o mercado.\"\n",
    "    ),\n",
    "    expected_output=\"Um relatório de análise de tendências contendo insights baseado nos dados do setor {sector}.\",\n",
    "    agent= analista,\n",
    "    llm=llm\n",
    ")"
   ]
  },
  {
   "cell_type": "code",
   "execution_count": 25,
   "id": "f49cc173",
   "metadata": {},
   "outputs": [],
   "source": [
    "redator_relatorio= Task(\n",
    "    description=(\n",
    "        \"1. usar analises de tendencias para criar um relatório detalhado sobre o mercado de {sector}.\"\n",
    "        \"2. escrever um relatório claro e conciso sobre o mercado de {sector}.\"\n",
    "        \"3. apresentar um resumo executivo e incluir recomendações finais baseadas nas análises realizadas.\"\n",
    "    ),\n",
    "    expected_output=\"Um relatório de analise de mercado em formato markdown pronto para leitura e apresentação.\",\n",
    "    agent= redator,\n",
    "    llm=llm\n",
    ")"
   ]
  },
  {
   "cell_type": "code",
   "execution_count": 26,
   "id": "5dd54585-e7cb-47f7-a305-98b523ab1ce5",
   "metadata": {},
   "outputs": [],
   "source": [
    "crew = Crew (\n",
    "    agents= [pesquisador, analista, redator],\n",
    "    tasks= [coleta_dados, analise_tendencias, redator_relatorio],\n",
    "    verbose= True,\n",
    "    llm=llm\n",
    ")"
   ]
  },
  {
   "cell_type": "code",
   "execution_count": 27,
   "id": "f37de3e0-2a5b-4a5a-8b35-a20fefc03b9b",
   "metadata": {},
   "outputs": [
    {
     "data": {
      "text/plain": [
       "Crew(id=1bd9d7e3-af97-45d7-a097-976ddf6966cc, process=Process.sequential, number_of_agents=3, number_of_tasks=3)"
      ]
     },
     "execution_count": 27,
     "metadata": {},
     "output_type": "execute_result"
    }
   ],
   "source": [
    "crew"
   ]
  },
  {
   "cell_type": "code",
   "execution_count": 28,
   "id": "cd9660c7-9300-48ba-a622-7792a2be159b",
   "metadata": {},
   "outputs": [
    {
     "name": "stdout",
     "output_type": "stream",
     "text": [
      "\u001b[1m\u001b[95m# Agent:\u001b[00m \u001b[1m\u001b[92mPesquisador de Mercado\u001b[00m\n",
      "\u001b[95m## Task:\u001b[00m \u001b[92m1. pesquisar a coletar informações atualizadas sobre Inteligência Artificial.2. identificar os principais players, tendencias e estatistaicas do sector.3. organize as informações de forma clara e concisa para a analise.\u001b[00m\n",
      "\n",
      "\n",
      "\u001b[1m\u001b[95m# Agent:\u001b[00m \u001b[1m\u001b[92mPesquisador de Mercado\u001b[00m\n",
      "\u001b[95m## Final Answer:\u001b[00m \u001b[92m\n",
      "Documento Estruturado sobre Inteligência Artificial\n",
      "\n",
      "1. Introdução\n",
      "   A Inteligência Artificial (IA) é um dos campos mais dinâmicos e transformadores da tecnologia atual. Com aplicações vastas e em constante evolução, o mercado de IA está crescendo rapidamente, impulsionado por avanços tecnológicos e pelo crescente interesse de empresas em diversas indústrias.\n",
      "\n",
      "2. Principais Players\n",
      "   - **Google AI**: Uma das divisões mais proeminentes em IA, com investimentos significativos em aprendizado de máquina e redes neurais.\n",
      "   - **OpenAI**: Conhecida por desenvolver o GPT-3, um dos modelos de linguagem mais avançados até o momento.\n",
      "   - **IBM Watson**: Oferece soluções de IA para empresas, com foco em processamento de linguagem natural e análise de dados.\n",
      "   - **Microsoft AI**: Investe pesadamente em ferramentas de IA para melhorar seus produtos e serviços, incluindo o Azure AI.\n",
      "   - **Amazon Web Services (AWS) AI**: Fornece serviços de IA na nuvem, como reconhecimento de imagem e análise de sentimento.\n",
      "\n",
      "3. Tendências\n",
      "   - **Aprendizado de Máquina e Deep Learning**: Continuam a ser áreas de foco, com avanços em redes neurais profundas que permitem maior precisão em previsões e análises.\n",
      "   - **Processamento de Linguagem Natural (PLN)**: Está se expandindo com a implementação de chatbots e assistentes virtuais mais sofisticados.\n",
      "   - **IA Explicável**: Existe uma crescente demanda por IA que possa explicar suas decisões, o que é crucial para a confiança do usuário.\n",
      "   - **Automação de Processos**: IA está sendo cada vez mais utilizada para automatizar tarefas repetitivas em setores como manufatura e serviços financeiros.\n",
      "\n",
      "4. Estatísticas do Setor\n",
      "   - O mercado global de IA foi avaliado em aproximadamente USD 60 bilhões em 2022 e projeta-se que atinja USD 300 bilhões até 2027, com uma taxa de crescimento anual composta (CAGR) de cerca de 40%.\n",
      "   - Setores como saúde, automotivo e varejo estão entre os que mais investem em tecnologias de IA.\n",
      "   - Espera-se que o número de empregos relacionados à IA cresça significativamente, com uma demanda crescente por cientistas de dados e engenheiros de IA.\n",
      "\n",
      "5. Oportunidades\n",
      "   - **Saúde**: IA está sendo usada para diagnósticos mais precisos e tratamentos personalizados.\n",
      "   - **Finanças**: Automatização de trading e análise de risco estão sendo revolucionadas pela IA.\n",
      "   - **Educação**: Ferramentas de aprendizado personalizadas estão emergindo, ajustando-se às necessidades individuais dos alunos.\n",
      "\n",
      "6. Ameaças\n",
      "   - **Preocupações Éticas**: Questões sobre viés de IA e uso de dados pessoais são críticas.\n",
      "   - **Segurança Cibernética**: IA também pode ser utilizada em ataques cibernéticos, aumentando a necessidade de medidas de segurança robustas.\n",
      "   - **Regulamentação**: Governos ao redor do mundo estão começando a implementar regulamentações que podem afetar o desenvolvimento e a implementação de IA.\n",
      "\n",
      "Conclusão\n",
      "A Inteligência Artificial está no centro da transformação digital global, com impactos profundos em uma variedade de setores. Com o crescimento contínuo e a evolução das suas capacidades, a IA oferece tanto oportunidades quanto desafios que necessitam de atenção cuidadosa para maximizar seus benefícios.\u001b[00m\n",
      "\n",
      "\n",
      "\u001b[1m\u001b[95m# Agent:\u001b[00m \u001b[1m\u001b[92mAnalista de Tendências\u001b[00m\n",
      "\u001b[95m## Task:\u001b[00m \u001b[92m1. examinar os dados coletaods pelo pesquisador de mercado.2. identificar tendências emergentes e oportunidades no setor Inteligência Artificial.3. fornecer uma análise detalhada das tendências identificadas, destacando os principais pontos e implicações para o mercado.\u001b[00m\n",
      "\n",
      "\n",
      "\u001b[1m\u001b[95m# Agent:\u001b[00m \u001b[1m\u001b[92mAnalista de Tendências\u001b[00m\n",
      "\u001b[95m## Final Answer:\u001b[00m \u001b[92m\n",
      "Relatório de Análise de Tendências em Inteligência Artificial\n",
      "\n",
      "Introdução\n",
      "A Inteligência Artificial (IA) continua a ser um dos campos mais transformadores da tecnologia moderna. Com um crescimento acelerado, impulsionado por inovações tecnológicas e pelo interesse corporativo, a IA está moldando o futuro em diversas indústrias.\n",
      "\n",
      "Principais Players\n",
      "Empresas como Google AI, OpenAI, IBM Watson, Microsoft AI e AWS AI estão liderando o mercado com investimentos robustos em aprendizado de máquina, processamento de linguagem natural e soluções de IA na nuvem. Esses players estão na vanguarda do desenvolvimento de tecnologias que prometem redefinir a interação humana com máquinas.\n",
      "\n",
      "Tendências Emergentes\n",
      "1. Aprendizado de Máquina e Deep Learning: O avanço em redes neurais está permitindo previsões mais precisas e análises complexas, mantendo essas áreas como um foco central.\n",
      "2. Processamento de Linguagem Natural (PLN): O crescimento de chatbots e assistentes virtuais mais sofisticados está expandindo o uso do PLN, melhorando a interação humano-computador.\n",
      "3. IA Explicável: A demanda por IA que possa explicar suas decisões está crescendo, especialmente em setores que exigem alta confiabilidade e transparência.\n",
      "4. Automação de Processos: A automação, especialmente em manufatura e finanças, está se expandindo com a ajuda de IA, otimizando eficiência e reduzindo custos operacionais.\n",
      "\n",
      "Estatísticas do Setor\n",
      "O mercado global de IA, avaliado em USD 60 bilhões em 2022, está projetado para atingir USD 300 bilhões até 2027, com um CAGR de 40%. Setores como saúde, automotivo e varejo estão entre os maiores investidores em IA. A demanda por profissionais qualificados, como cientistas de dados e engenheiros de IA, está crescendo rapidamente.\n",
      "\n",
      "Oportunidades no Mercado de IA\n",
      "1. Saúde: IA está revolucionando diagnósticos e tratamentos, oferecendo soluções personalizadas e mais precisas.\n",
      "2. Finanças: A automatização de trading e análise de risco está sendo transformada, aumentando a eficiência e a precisão nas operações financeiras.\n",
      "3. Educação: Ferramentas de aprendizado personalizadas estão emergindo, adaptando-se às necessidades de cada aluno e promovendo uma educação mais eficaz.\n",
      "\n",
      "Ameaças e Desafios\n",
      "1. Preocupações Éticas: O viés em sistemas de IA e o uso de dados pessoais levantam questões éticas importantes.\n",
      "2. Segurança Cibernética: IA pode potencialmente ser usada em ataques cibernéticos, exigindo medidas de segurança aprimoradas.\n",
      "3. Regulamentação: Normativas emergentes podem afetar o desenvolvimento e a implementação de IA, exigindo que empresas se adaptem a novas regras.\n",
      "\n",
      "Conclusão\n",
      "A Inteligência Artificial está no cerne da transformação digital global, oferecendo tanto oportunidades quanto desafios. O futuro do mercado de IA depende de um equilíbrio cuidadoso entre inovação e responsabilidade, com atenção aos impactos sociais e éticos. As empresas que conseguirem navegar nesse ambiente dinâmico, enquanto garantem a confiança do usuário e a conformidade regulatória, estarão melhor posicionadas para capitalizar sobre o imenso potencial da IA.\u001b[00m\n",
      "\n",
      "\n",
      "\u001b[1m\u001b[95m# Agent:\u001b[00m \u001b[1m\u001b[92mRedator do Relatório\u001b[00m\n",
      "\u001b[95m## Task:\u001b[00m \u001b[92m1. usar analises de tendencias para criar um relatório detalhado sobre o mercado de Inteligência Artificial.2. escrever um relatório claro e conciso sobre o mercado de Inteligência Artificial.3. apresentar um resumo executivo e incluir recomendações finais baseadas nas análises realizadas.\u001b[00m\n",
      "\n",
      "\n",
      "\u001b[1m\u001b[95m# Agent:\u001b[00m \u001b[1m\u001b[92mRedator do Relatório\u001b[00m\n",
      "\u001b[95m## Final Answer:\u001b[00m \u001b[92m\n",
      "```markdown\n",
      "# Relatório de Análise de Mercado de Inteligência Artificial\n",
      "\n",
      "## Resumo Executivo\n",
      "\n",
      "A Inteligência Artificial (IA) representa uma das áreas mais dinâmicas e transformadoras da tecnologia contemporânea, com expectativas de crescimento exponencial nos próximos anos. Este relatório oferece uma visão abrangente sobre o estado atual do mercado de IA, destacando as principais tendências, oportunidades e desafios.\n",
      "\n",
      "## Introdução\n",
      "\n",
      "A IA continua a transformar várias indústrias, sendo alimentada por avanços em aprendizado de máquina, processamento de linguagem natural e automação. As empresas líderes no setor, como Google AI, OpenAI, IBM Watson, Microsoft AI e AWS AI, estão na vanguarda dessas inovações.\n",
      "\n",
      "## Principais Players\n",
      "\n",
      "Os principais players do mercado estão investindo fortemente em tecnologias que prometem redefinir a interação humano-máquina. Esses investimentos estão focados em áreas como aprendizado de máquina, processamento de linguagem natural e soluções de IA na nuvem.\n",
      "\n",
      "## Tendências Emergentes\n",
      "\n",
      "1. **Aprendizado de Máquina e Deep Learning**: O avanço em redes neurais está permitindo previsões mais precisas e análises complexas.\n",
      "   \n",
      "2. **Processamento de Linguagem Natural (PLN)**: A sofisticação crescente de chatbots e assistentes virtuais está expandindo o uso do PLN.\n",
      "\n",
      "3. **IA Explicável**: A necessidade de IA que possa explicar suas decisões está crescendo, particularmente em setores que demandam alta confiabilidade.\n",
      "\n",
      "4. **Automação de Processos**: A automação está otimizando a eficiência em setores como manufatura e finanças.\n",
      "\n",
      "## Estatísticas do Setor\n",
      "\n",
      "O mercado global de IA, avaliado em USD 60 bilhões em 2022, está projetado para atingir USD 300 bilhões até 2027, com um crescimento anual composto (CAGR) de 40%. Setores como saúde, automotivo e varejo estão entre os maiores investidores em IA.\n",
      "\n",
      "## Oportunidades no Mercado de IA\n",
      "\n",
      "1. **Saúde**: Transformação nos diagnósticos e tratamentos através de soluções personalizadas.\n",
      "   \n",
      "2. **Finanças**: Automação de trading e análise de risco, aumentando a eficiência operacional.\n",
      "   \n",
      "3. **Educação**: Surgimento de ferramentas de aprendizado personalizadas, adaptando-se às necessidades individuais dos alunos.\n",
      "\n",
      "## Ameaças e Desafios\n",
      "\n",
      "1. **Preocupações Éticas**: Questões sobre viés em sistemas de IA e uso de dados pessoais.\n",
      "   \n",
      "2. **Segurança Cibernética**: Potencial uso de IA em ataques cibernéticos.\n",
      "   \n",
      "3. **Regulamentação**: Impacto das normativas emergentes no desenvolvimento e implementação de IA.\n",
      "\n",
      "## Conclusão\n",
      "\n",
      "A Inteligência Artificial está no centro da transformação digital global, oferecendo tanto oportunidades quanto desafios. O futuro do mercado de IA dependerá de um equilíbrio entre inovação e responsabilidade, com foco nos impactos sociais e éticos. Empresas que conseguirem navegar por esse ambiente dinâmico estarão melhor posicionadas para capitalizar sobre o potencial da IA.\n",
      "\n",
      "## Recomendações Finais\n",
      "\n",
      "- **Inovação Responsável**: As empresas devem investir em IA explicável e ética para aumentar a confiança dos usuários e atender às normativas regulatórias.\n",
      "  \n",
      "- **Investimento em Segurança**: Fortalecer a segurança cibernética para proteger contra o uso indevido de tecnologias de IA.\n",
      "  \n",
      "- **Parcerias Estratégicas**: Colaborações com universidades e startups podem fomentar a inovação e trazer novas perspectivas para o desenvolvimento de IA.\n",
      "\n",
      "Este relatório fornece uma base sólida para entender o mercado de IA e como melhor aproveitar suas oportunidades enquanto mitiga riscos associados.\n",
      "```\u001b[00m\n",
      "\n",
      "\n"
     ]
    }
   ],
   "source": [
    "result= crew.kickoff(inputs={\"sector\": \"Inteligência Artificial\"})"
   ]
  },
  {
   "cell_type": "code",
   "execution_count": 31,
   "id": "b2e4f2ea-a3eb-4fb6-8ce7-b92735ee15a2",
   "metadata": {},
   "outputs": [],
   "source": [
    "from IPython.display import Markdown, display"
   ]
  },
  {
   "cell_type": "code",
   "execution_count": 33,
   "id": "f24c6e80",
   "metadata": {},
   "outputs": [
    {
     "data": {
      "text/markdown": [
       "```markdown\n",
       "# Relatório de Análise de Mercado de Inteligência Artificial\n",
       "\n",
       "## Resumo Executivo\n",
       "\n",
       "A Inteligência Artificial (IA) representa uma das áreas mais dinâmicas e transformadoras da tecnologia contemporânea, com expectativas de crescimento exponencial nos próximos anos. Este relatório oferece uma visão abrangente sobre o estado atual do mercado de IA, destacando as principais tendências, oportunidades e desafios.\n",
       "\n",
       "## Introdução\n",
       "\n",
       "A IA continua a transformar várias indústrias, sendo alimentada por avanços em aprendizado de máquina, processamento de linguagem natural e automação. As empresas líderes no setor, como Google AI, OpenAI, IBM Watson, Microsoft AI e AWS AI, estão na vanguarda dessas inovações.\n",
       "\n",
       "## Principais Players\n",
       "\n",
       "Os principais players do mercado estão investindo fortemente em tecnologias que prometem redefinir a interação humano-máquina. Esses investimentos estão focados em áreas como aprendizado de máquina, processamento de linguagem natural e soluções de IA na nuvem.\n",
       "\n",
       "## Tendências Emergentes\n",
       "\n",
       "1. **Aprendizado de Máquina e Deep Learning**: O avanço em redes neurais está permitindo previsões mais precisas e análises complexas.\n",
       "   \n",
       "2. **Processamento de Linguagem Natural (PLN)**: A sofisticação crescente de chatbots e assistentes virtuais está expandindo o uso do PLN.\n",
       "\n",
       "3. **IA Explicável**: A necessidade de IA que possa explicar suas decisões está crescendo, particularmente em setores que demandam alta confiabilidade.\n",
       "\n",
       "4. **Automação de Processos**: A automação está otimizando a eficiência em setores como manufatura e finanças.\n",
       "\n",
       "## Estatísticas do Setor\n",
       "\n",
       "O mercado global de IA, avaliado em USD 60 bilhões em 2022, está projetado para atingir USD 300 bilhões até 2027, com um crescimento anual composto (CAGR) de 40%. Setores como saúde, automotivo e varejo estão entre os maiores investidores em IA.\n",
       "\n",
       "## Oportunidades no Mercado de IA\n",
       "\n",
       "1. **Saúde**: Transformação nos diagnósticos e tratamentos através de soluções personalizadas.\n",
       "   \n",
       "2. **Finanças**: Automação de trading e análise de risco, aumentando a eficiência operacional.\n",
       "   \n",
       "3. **Educação**: Surgimento de ferramentas de aprendizado personalizadas, adaptando-se às necessidades individuais dos alunos.\n",
       "\n",
       "## Ameaças e Desafios\n",
       "\n",
       "1. **Preocupações Éticas**: Questões sobre viés em sistemas de IA e uso de dados pessoais.\n",
       "   \n",
       "2. **Segurança Cibernética**: Potencial uso de IA em ataques cibernéticos.\n",
       "   \n",
       "3. **Regulamentação**: Impacto das normativas emergentes no desenvolvimento e implementação de IA.\n",
       "\n",
       "## Conclusão\n",
       "\n",
       "A Inteligência Artificial está no centro da transformação digital global, oferecendo tanto oportunidades quanto desafios. O futuro do mercado de IA dependerá de um equilíbrio entre inovação e responsabilidade, com foco nos impactos sociais e éticos. Empresas que conseguirem navegar por esse ambiente dinâmico estarão melhor posicionadas para capitalizar sobre o potencial da IA.\n",
       "\n",
       "## Recomendações Finais\n",
       "\n",
       "- **Inovação Responsável**: As empresas devem investir em IA explicável e ética para aumentar a confiança dos usuários e atender às normativas regulatórias.\n",
       "  \n",
       "- **Investimento em Segurança**: Fortalecer a segurança cibernética para proteger contra o uso indevido de tecnologias de IA.\n",
       "  \n",
       "- **Parcerias Estratégicas**: Colaborações com universidades e startups podem fomentar a inovação e trazer novas perspectivas para o desenvolvimento de IA.\n",
       "\n",
       "Este relatório fornece uma base sólida para entender o mercado de IA e como melhor aproveitar suas oportunidades enquanto mitiga riscos associados.\n",
       "```"
      ],
      "text/plain": [
       "<IPython.core.display.Markdown object>"
      ]
     },
     "metadata": {},
     "output_type": "display_data"
    }
   ],
   "source": [
    "display(Markdown(str(result)))"
   ]
  },
  {
   "cell_type": "code",
   "execution_count": 34,
   "id": "45007839",
   "metadata": {},
   "outputs": [],
   "source": [
    "import pdfkit\n",
    "\n",
    "with open(\"Artigo.md\", \"w\", encoding=\"utf-8\") as file:\n",
    "    file.write(str(result))"
   ]
  },
  {
   "cell_type": "code",
   "execution_count": 35,
   "id": "54551c46",
   "metadata": {},
   "outputs": [],
   "source": [
    "import markdown\n",
    "\n",
    "html = markdown.markdown(str(result))\n",
    "with open(\"Artigo.html\", \"w\", encoding=\"utf-8\") as file:\n",
    "    file.write(html)"
   ]
  }
 ],
 "metadata": {
  "kernelspec": {
   "display_name": ".venv (3.12.10)",
   "language": "python",
   "name": "python3"
  },
  "language_info": {
   "codemirror_mode": {
    "name": "ipython",
    "version": 3
   },
   "file_extension": ".py",
   "mimetype": "text/x-python",
   "name": "python",
   "nbconvert_exporter": "python",
   "pygments_lexer": "ipython3",
   "version": "3.12.10"
  }
 },
 "nbformat": 4,
 "nbformat_minor": 5
}

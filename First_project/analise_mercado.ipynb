{
 "cells": [
  {
   "cell_type": "code",
   "execution_count": null,
   "id": "e7b2cb3f",
   "metadata": {},
   "outputs": [
    {
     "ename": "",
     "evalue": "",
     "output_type": "error",
     "traceback": [
      "\u001b[1;31mRunning cells with 'Python 3.12.10' requires the ipykernel package.\n",
      "\u001b[1;31m<a href='command:jupyter.createPythonEnvAndSelectController'>Create a Python Environment</a> with the required packages.\n",
      "\u001b[1;31mOr install 'ipykernel' using the command: 'c:/Users/loren/AppData/Local/Programs/Python/Python312/python.exe -m pip install ipykernel -U --user --force-reinstall'"
     ]
    }
   ],
   "source": [
    "from dotenv import load_dotenv, find_dotenv\n",
    "import os\n",
    "load_dotenv(find_dotenv())\n"
   ]
  },
  {
   "cell_type": "code",
   "execution_count": null,
   "id": "226ea619",
   "metadata": {},
   "outputs": [],
   "source": [
    "from crewai import Agent,Task, Crew\n",
    "from langchain_openai import ChatOpenAI\n",
    "llm = ChatOpenAI(model=\"gpt-4o\")"
   ]
  },
  {
   "cell_type": "code",
   "execution_count": null,
   "id": "b2f1bce0",
   "metadata": {},
   "outputs": [],
   "source": [
    "\"\"\"\n",
    "    Agentes\n",
    "- Pesquisador de Mercado\n",
    "- Analista de Tendências\n",
    "- Redator do Relatóri\n",
    "\"\"\""
   ]
  },
  {
   "cell_type": "code",
   "execution_count": null,
   "id": "0610b212",
   "metadata": {},
   "outputs": [],
   "source": [
    "pesquisador= Agent(\n",
    "    role=\"Pesquisador de Mercado\",\n",
    "    goal=\"Coletar informações sobre {sector}\",\n",
    "    backstory=\"\"\"Você é um pesquisador de mercado experiente, especializado em coletar dados sobre tendências de mercado, e coleta dados relevantes sobre {sector}. \n",
    "    Você deve fornecer informações detalhadas e atualizadas sobre o mercado, incluindo concorrência, oportunidades e ameaças.\"\"\",\n",
    "    allow_delegation=False,\n",
    "    verbose=True,\n",
    "    llm=llm\n",
    ")"
   ]
  },
  {
   "cell_type": "code",
   "execution_count": null,
   "id": "24e8fb07",
   "metadata": {},
   "outputs": [],
   "source": [
    "analista= Agent(\n",
    "    role=\"Analista de Tendências\",\n",
    "    goal=\"Analisar tendências de {sector} e identificar oportunidades\",\n",
    "    backstory=\"\"\"Você é um analista de tendências, especializado em identificar padrões e oportunidades no mercado de {sector}.\n",
    "    Você deve analisar os dados coletados pelo Pesquisador de Mercado e identificar tendências emergentes\"\"\",\n",
    "    allow_delegation=False,\n",
    "    verbose=True,\n",
    "    llm=llm\n",
    ")"
   ]
  },
  {
   "cell_type": "code",
   "execution_count": null,
   "id": "6db24eaf",
   "metadata": {},
   "outputs": [],
   "source": [
    "redator= Agent(\n",
    "    role=\"Redator do Relatório\",\n",
    "    goal=\"Escrever um relatório detalhado sobre o mercado de {sector}\",\n",
    "    backstory=\"\"\"Você é um redator experiente, especializado em criar relatórios detalhados e informativos sobre o mercado de {sector}.\n",
    "    Você deve compilar as informações coletadas pelo Pesquisador de Mercado e as análises do Analista de Tendências em um relatório claro e conciso.\"\"\",\n",
    "    allow_delegation=False,\n",
    "    verbose=True,\n",
    "    llm=llm\n",
    ")"
   ]
  },
  {
   "cell_type": "code",
   "execution_count": null,
   "id": "3cd5f041",
   "metadata": {},
   "outputs": [],
   "source": [
    "coleta_dados= Task(\n",
    "    description=(\n",
    "        \"1. pesquisar a coletar informações atualizadas sobre {sector}.\"\n",
    "        \"2. identificar os principais players, tendencias e estatistaicas do sector.\"\n",
    "        \"3. organize as informações de forma clara e concisa para a analise.\"\n",
    "    ),\n",
    "    expected_output=\"Um documento estruturado contendo dados de mercado sobre {sector}.\",\n",
    "    agent= pesquisador,\n",
    "    llm=llm\n",
    ")"
   ]
  },
  {
   "cell_type": "code",
   "execution_count": null,
   "id": "089909d0",
   "metadata": {},
   "outputs": [],
   "source": [
    "analise_tendencias= Task(\n",
    "    description=(\n",
    "        \"1. examinar os dados coletaods pelo pesquisador de mercado.\"\n",
    "        \"2. identificar tendências emergentes e oportunidades no setor {sector}.\"\n",
    "        \"3. fornecer uma análise detalhada das tendências identificadas, destacando os principais pontos e implicações para o mercado.\"\n",
    "    ),\n",
    "    expected_output=\"Um relatório de análise de tendências contendo insights baseado nos dados do setor {sector}.\",\n",
    "    agent= analista,\n",
    "    llm=llm\n",
    ")"
   ]
  },
  {
   "cell_type": "code",
   "execution_count": null,
   "id": "f49cc173",
   "metadata": {},
   "outputs": [],
   "source": [
    "redator_relatorio= Task(\n",
    "    description=(\n",
    "        \"1. usar analises de tendencias para criar um relatório detalhado sobre o mercado de {sector}.\"\n",
    "        \"2. escrever um relatório claro e conciso sobre o mercado de {sector}.\"\n",
    "        \"3. apresentar um resumo executivo e incluir recomendações finais baseadas nas análises realizadas.\"\n",
    "    ),\n",
    "    expected_output=\"Um relatório de analise de mercado em formato markdown pronto para leitura e apresentação.\",\n",
    "    agent= redator,\n",
    "    llm=llm\n",
    ")"
   ]
  },
  {
   "cell_type": "code",
   "execution_count": null,
   "id": "5dd54585-e7cb-47f7-a305-98b523ab1ce5",
   "metadata": {},
   "outputs": [],
   "source": [
    "crew = Crew (\n",
    "    agents= [pesquisador, analista, redator],\n",
    "    tasks= [coleta_dados, analise_tendencias, redator_relatorio],\n",
    "    verbose= True,\n",
    "    llm=llm\n",
    ")"
   ]
  },
  {
   "cell_type": "code",
   "execution_count": null,
   "id": "f37de3e0-2a5b-4a5a-8b35-a20fefc03b9b",
   "metadata": {},
   "outputs": [],
   "source": [
    "crew"
   ]
  },
  {
   "cell_type": "code",
   "execution_count": null,
   "id": "cd9660c7-9300-48ba-a622-7792a2be159b",
   "metadata": {},
   "outputs": [],
   "source": [
    "result= crew.kickoff(inputs={\"sector\": \"Inteligência Artificial\"})"
   ]
  },
  {
   "cell_type": "code",
   "execution_count": null,
   "id": "b2e4f2ea-a3eb-4fb6-8ce7-b92735ee15a2",
   "metadata": {},
   "outputs": [],
   "source": [
    "from IPython.display import Markdown, display"
   ]
  },
  {
   "cell_type": "code",
   "execution_count": null,
   "id": "f24c6e80",
   "metadata": {},
   "outputs": [],
   "source": [
    "display(Markdown(str(result)))"
   ]
  },
  {
   "cell_type": "code",
   "execution_count": null,
   "id": "45007839",
   "metadata": {},
   "outputs": [],
   "source": [
    "import pdfkit\n",
    "\n",
    "with open(\"Artigo.md\", \"w\", encoding=\"utf-8\") as file:\n",
    "    file.write(str(result))"
   ]
  },
  {
   "cell_type": "code",
   "execution_count": null,
   "id": "54551c46",
   "metadata": {},
   "outputs": [],
   "source": [
    "import markdown\n",
    "\n",
    "html = markdown.markdown(str(result))\n",
    "with open(\"Artigo.html\", \"w\", encoding=\"utf-8\") as file:\n",
    "    file.write(html)"
   ]
  }
 ],
 "metadata": {
  "kernelspec": {
   "display_name": "Python 3",
   "language": "python",
   "name": "python3"
  },
  "language_info": {
   "codemirror_mode": {
    "name": "ipython",
    "version": 3
   },
   "file_extension": ".py",
   "mimetype": "text/x-python",
   "name": "python",
   "nbconvert_exporter": "python",
   "pygments_lexer": "ipython3",
   "version": "3.12.10"
  }
 },
 "nbformat": 4,
 "nbformat_minor": 5
}

{
 "cells": [
  {
   "cell_type": "code",
   "execution_count": null,
   "id": "e6bf21df",
   "metadata": {},
   "outputs": [
    {
     "ename": "",
     "evalue": "",
     "output_type": "error",
     "traceback": [
      "\u001b[1;31mRunning cells with 'Python 3.12.10' requires the ipykernel package.\n",
      "\u001b[1;31m<a href='command:jupyter.createPythonEnvAndSelectController'>Create a Python Environment</a> with the required packages.\n",
      "\u001b[1;31mOr install 'ipykernel' using the command: 'c:/Users/loren/AppData/Local/Programs/Python/Python312/python.exe -m pip install ipykernel -U --user --force-reinstall'"
     ]
    }
   ],
   "source": [
    "import os\n",
    "import json\n",
    "from dotenv import load_dotenv, find_dotenv\n",
    "from datetime import datetime, timedelta\n",
    "from crewai import Agent, Task, Crew, Process\n",
    "from crewai_tools import CSVSearchTool\n",
    "from langchain.tools import tool\n"
   ]
  },
  {
   "cell_type": "code",
   "execution_count": null,
   "id": "ad7014ff",
   "metadata": {},
   "outputs": [],
   "source": [
    "from langchain_openai import ChatOpenAI\n",
    "\n",
    "load_dotenv(find_dotenv())\n",
    "\n",
    "llm = ChatOpenAI(\n",
    "    model=\"gpt-3.5-turbo\",\n",
    "    temperature=0.4\n",
    ")"
   ]
  },
  {
   "cell_type": "code",
   "execution_count": null,
   "id": "3943ca65",
   "metadata": {},
   "outputs": [],
   "source": [
    "csv_imoveis = CSVSearchTool(csv=\"files/imoveis.csv\")"
   ]
  },
  {
   "cell_type": "code",
   "execution_count": null,
   "id": "764d62c2",
   "metadata": {},
   "outputs": [],
   "source": [
    "#Agente Corretor de Imóveis\n",
    "corretor = Agent(\n",
    "    role=\"Corretor de Imóveis\",\n",
    "    goal=\"obtenha as melhores recomendações de imóveis para o cliente de acordo com suas preferências com relação ao banco de dados de imóveis disponíveis.\",\n",
    "    backstory=\"Você é um corretor de imóveis especializado que ajuda os clientes a encontrar o imóvel ideal com base em suas preferências e necessidades.\",\n",
    "    verbose=True,\n",
    "    max_iter=5,\n",
    "    tools=[csv_imoveis],\n",
    "    allow_delegation=False,\n",
    "    memory=True,\n",
    "    llm=llm\n",
    ")"
   ]
  },
  {
   "cell_type": "code",
   "execution_count": null,
   "id": "0a904bc3",
   "metadata": {},
   "outputs": [],
   "source": [
    "#Tarefa de Buscar Imóveis\n",
    "buscar_imoveis = Task(\n",
    "    description=\"Busque imóveis que atendam às preferências do cliente, considerando faixas de preço e tipo de imóvel.\",\n",
    "    expected_output=\"lista de imóveis disponíveis que atendem às preferências do cliente\",\n",
    "    agent=corretor,\n",
    "    llm=llm\n",
    ")"
   ]
  },
  {
   "cell_type": "code",
   "execution_count": null,
   "id": "39a03db0",
   "metadata": {},
   "outputs": [],
   "source": [
    "from crewai.tools import BaseTool\n",
    "\n",
    "def obter_precos_imoveis(cidade: str = \"geral\"):\n",
    "    precos = {\n",
    "        \"São Paulo\": {\"tendencia\":\"aumento\", \"percentual\":5.2 },\n",
    "        \"Rio de Janeiro\": {\"tendencia\":\"estavel\", \"percentual\":0.0 },\n",
    "        \"Belo Horizonte\": {\"tendencia\":\"queda\", \"percentual\":-3.1 },\n",
    "        \"geral\": {\"tendencia\":\"aumento\", \"percentual\":4.0 }\n",
    "    }\n",
    "    return precos.get(cidade, precos[\"geral\"])\n",
    "\n",
    "class TendenciasPrecoImoveisTool(BaseTool):\n",
    "    name: str = \"analista de preço imobiliários\"\n",
    "    description: str = \"Obtenha as tendências de preços de imóveis em diferentes cidades.\"\n",
    "\n",
    "    def _run(self, cidade: str) -> dict:\n",
    "        \"\"\"\n",
    "        Executa análises de preços imobiliários e retorna a tendência com base na cidade.\n",
    "        \"\"\"\n",
    "\n",
    "        try:\n",
    "            return obter_precos_imoveis(cidade)\n",
    "        except Exception as e:\n",
    "            return {\"error\": f\"erro ao obter tendencias de preços: {str(e)}\"}"
   ]
  },
  {
   "cell_type": "code",
   "execution_count": null,
   "id": "58edf85c",
   "metadata": {},
   "outputs": [],
   "source": [
    "analista_mercado= Agent(\n",
    "    role=\"Analista de Mercado Imobiliário\",\n",
    "    goal=\"Fornecer informações sobre tendências de preços de imóveis na cidade solicitada.\",\n",
    "    backstory=\"Você é um analista de mercado imobiliário que fornece insights sobre tendências de preços de imóveis em diferentes cidades.\",\n",
    "    verbose=True,\n",
    "    max_iter=5,\n",
    "    allow_delegation=False,\n",
    "    memory=True,\n",
    "    llm=llm\n",
    ")"
   ]
  },
  {
   "cell_type": "code",
   "execution_count": null,
   "id": "9ffd681a",
   "metadata": {},
   "outputs": [],
   "source": [
    "obter_tendencias= Task(\n",
    "    description=\"\"\"\n",
    "    Analise as tendências de preços de imóveis na cidade {cidade} e forneça insights sobre a situação do mercado imobiliário \n",
    "    (Valorizado ou Desvalorizado). Considere o tipo de imóvel {imovel} e a faixa de preço {faixa_preco}.\n",
    "    \"\"\",\n",
    "    expected_output=\"Resumo das tendências de preços de imóveis na cidade solicitada, incluindo a situação do mercado imobiliário.\",\n",
    "    tools=[TendenciasPrecoImoveisTool()],\n",
    "    agent=analista_mercado,\n",
    "    parameters=[\"cidade\"],\n",
    "    llm=llm\n",
    ")"
   ]
  },
  {
   "cell_type": "code",
   "execution_count": null,
   "id": "eeb9d976",
   "metadata": {},
   "outputs": [],
   "source": [
    "analista_noticias= Agent(\n",
    "    role=\"Analista de mercado\",\n",
    "    goal=\"Busca noticias relevantes sobre o mercado imobiliário para avaliar fatores externos\",\n",
    "    backstory=\"Especialista em analizar noticias e tendencias economicas que afetam os preços dos imóveis\",\n",
    "    verbose=True,\n",
    "    max_iter=5,\n",
    "    memory=True,\n",
    "    llm=llm\n",
    ")"
   ]
  },
  {
   "cell_type": "code",
   "execution_count": null,
   "id": "582a918e",
   "metadata": {},
   "outputs": [],
   "source": [
    "obter_noticias = Task(\n",
    "    description=\"Busque notícias relevantes sobre o mercado imobiliário que possam impactar os preços dos imóveis.\",\n",
    "    expected_output=\"Lista de notícias relevantes sobre o mercado imobiliário.\",\n",
    "    agent=analista_noticias,\n",
    "    parameters=[\"cidade\"],\n",
    "    llm=llm\n",
    ")"
   ]
  },
  {
   "cell_type": "code",
   "execution_count": null,
   "id": "6869a261",
   "metadata": {},
   "outputs": [],
   "source": [
    "consultor_financeiro = Agent(\n",
    "    role=\"Consultor Financeiro\",\n",
    "    goal=\"Fornecer recomendações financeiras personalizadas para a compra de imóveis, considerando o perfil do cliente.\",\n",
    "    backstory=\"Você é um consultor financeiro especializado em ajudar clientes a tomar decisões informadas sobre a compra de imóveis.\",\n",
    "    verbose=True,\n",
    "    max_iter=5,\n",
    "    allow_delegation=False,\n",
    "    memory=True,\n",
    "    llm=llm\n",
    ")"
   ]
  },
  {
   "cell_type": "code",
   "execution_count": null,
   "id": "bb2ca0a8",
   "metadata": {},
   "outputs": [],
   "source": [
    "calcular_financiamento = Task(\n",
    "    description=\"Analise a renda do cliente e sugira opções de financeamento viáveis.\",\n",
    "    expected_output=\"Tabela comparativa de opções de financiamento, taxa de juros e prazos.\",\n",
    "    agent=consultor_financeiro,\n",
    "    llm=llm\n",
    ")"
   ]
  },
  {
   "cell_type": "code",
   "execution_count": null,
   "id": "84f366dc",
   "metadata": {},
   "outputs": [],
   "source": [
    "redator = Agent(\n",
    "    role=\"Redator de Relatórios Imobiliários\",\n",
    "    goal=\"Criar relatórios detalhados sobre as tendências do mercado e imóveis encontrados.\",\n",
    "    backstory=\"\"\"Você é um redator especializado em criar relatórios sobre o mercado imobiliário, incluindo análises de tendências e recomendações.\n",
    "    Traduzindo dados complexos em informações acessíveis para os clientes.\"\"\",\n",
    "    verbose=True,\n",
    "    max_iter=5,\n",
    "    allow_delegation=False,\n",
    "    memory=True,\n",
    "    llm=llm\n",
    ")"
   ]
  },
  {
   "cell_type": "code",
   "execution_count": null,
   "id": "71b3fdf5",
   "metadata": {},
   "outputs": [],
   "source": [
    "gerar_relatorio = Task(\n",
    "    description=\"Crie um relatório detalhado sobre o melhor imóveis encontrado, considerando preços, tendências e financeamento.\",\n",
    "    expected_output=\"Relatório formatado com resumo do mercado, opções recomendadas e justificativa da escolha.\",\n",
    "    agent=redator,\n",
    "    context=[buscar_imoveis, obter_tendencias, obter_noticias, calcular_financiamento],\n",
    "    llm=llm\n",
    ")"
   ]
  },
  {
   "cell_type": "code",
   "execution_count": null,
   "id": "f69be484",
   "metadata": {},
   "outputs": [],
   "source": [
    "Crew = Crew(\n",
    "    agents=[corretor, analista_mercado, analista_noticias, consultor_financeiro, redator],\n",
    "    tasks=[buscar_imoveis, obter_tendencias, obter_noticias, calcular_financiamento, gerar_relatorio],\n",
    "    verbose=True,\n",
    "    process=Process.hierarchical,\n",
    "    full_output=True,\n",
    "    share_crew=False,\n",
    "    max_iter=15,\n",
    "    manager_llm=llm,\n",
    "    llm=llm\n",
    ")"
   ]
  },
  {
   "cell_type": "code",
   "execution_count": null,
   "id": "5be15a4f",
   "metadata": {},
   "outputs": [],
   "source": [
    "result = Crew.kickoff(inputs={\"cidade\": \"Rio de Janeiro\", \n",
    "                             \"imovel\": \"apartamento\", \n",
    "                             \"faixa_preco\": \"500000-700000\"})"
   ]
  },
  {
   "cell_type": "code",
   "execution_count": null,
   "id": "e7ea614f",
   "metadata": {},
   "outputs": [],
   "source": [
    "from IPython.display import display, Markdown"
   ]
  },
  {
   "cell_type": "code",
   "execution_count": null,
   "id": "b9b1dfa2",
   "metadata": {},
   "outputs": [],
   "source": [
    "display(Markdown(str(result)))"
   ]
  }
 ],
 "metadata": {
  "kernelspec": {
   "display_name": "Python 3",
   "language": "python",
   "name": "python3"
  },
  "language_info": {
   "codemirror_mode": {
    "name": "ipython",
    "version": 3
   },
   "file_extension": ".py",
   "mimetype": "text/x-python",
   "name": "python",
   "nbconvert_exporter": "python",
   "pygments_lexer": "ipython3",
   "version": "3.12.10"
  }
 },
 "nbformat": 4,
 "nbformat_minor": 5
}
